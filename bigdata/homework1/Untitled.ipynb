{
 "cells": [
  {
   "cell_type": "code",
   "execution_count": 4,
   "id": "dimensional-warren",
   "metadata": {},
   "outputs": [],
   "source": [
    "### YOUR CODE HERE\n",
    "import requests\n",
    "from bs4 import BeautifulSoup\n",
    "import re\n",
    "import pandas as pd\n",
    "\n",
    "urls = open('./Q2.txt', 'r')\n",
    "\n",
    "url = urls.readlines()\n",
    "urls = list(map(lambda s: s.strip(), url))\n",
    "count = 0\n",
    "remove = []\n",
    "for url in urls:\n",
    "    response = requests.get(url)\n",
    "\n",
    "    if response.status_code==200:\n",
    "           continue\n",
    "    else: \n",
    "        count += 1\n",
    "        remove.append(url)\n",
    "\n"
   ]
  },
  {
   "cell_type": "code",
   "execution_count": 5,
   "id": "boolean-ferry",
   "metadata": {},
   "outputs": [
    {
     "name": "stdout",
     "output_type": "stream",
     "text": [
      "['https://magazine.amstat.org/blog/2016/06/01/datascience-2/', 'https://www.statisticsviews.com/article/nate-silver-what-i-need-from-statisticians/', 'http://cacm.acm.org/magazines/2013/12/169933-data-science-and-prediction/fulltext', 'https://statmodeling.stat.columbia.edu/2013/11/14/statistics-least-important-part-data-science/', 'https://magazine.amstat.org/blog/2015/10/01/asa-statement-on-the-role-of-statistics-in-data-science/', 'http://www.datascienceassn.org/about-data-science']\n"
     ]
    }
   ],
   "source": [
    "print(remove)"
   ]
  }
 ],
 "metadata": {
  "kernelspec": {
   "display_name": "Python 3",
   "language": "python",
   "name": "python3"
  },
  "language_info": {
   "codemirror_mode": {
    "name": "ipython",
    "version": 3
   },
   "file_extension": ".py",
   "mimetype": "text/x-python",
   "name": "python",
   "nbconvert_exporter": "python",
   "pygments_lexer": "ipython3",
   "version": "3.8.5"
  }
 },
 "nbformat": 4,
 "nbformat_minor": 5
}
