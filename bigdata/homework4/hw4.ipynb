{
 "cells": [
  {
   "cell_type": "markdown",
   "id": "apparent-genius",
   "metadata": {},
   "source": [
    "1 Preprocessing (20 pts)\n",
    "\n",
    "Please leave your codes and results in the following sub-questions.\n"
   ]
  },
  {
   "cell_type": "markdown",
   "id": "invisible-guyana",
   "metadata": {},
   "source": [
    "(a) First we will load the data using spark data source API. Write codes to load and print\n",
    "out its schema using printSchema()."
   ]
  },
  {
   "cell_type": "code",
   "execution_count": 1,
   "id": "intellectual-updating",
   "metadata": {},
   "outputs": [],
   "source": [
    "#from pyspark.mllib.stat import Statistics\n",
    "from pyspark import SparkContext\n",
    "sc = SparkContext()\n",
    "from pyspark.sql import SQLContext\n",
    "from pyspark.sql import SparkSession\n",
    "\n",
    "\n",
    "sqlContext = SQLContext(sc)\n",
    "spark = SparkSession.builder.appName('Spark Session 1').getOrCreate()\n",
    "df = spark.read.csv('test.csv', header=True)"
   ]
  },
  {
   "cell_type": "code",
   "execution_count": 30,
   "id": "previous-interaction",
   "metadata": {},
   "outputs": [
    {
     "name": "stdout",
     "output_type": "stream",
     "text": [
      "root\n",
      " |-- PassengerId: string (nullable = true)\n",
      " |-- Pclass: string (nullable = true)\n",
      " |-- Name: string (nullable = true)\n",
      " |-- Sex: string (nullable = true)\n",
      " |-- Age: string (nullable = true)\n",
      " |-- SibSp: string (nullable = true)\n",
      " |-- Parch: string (nullable = true)\n",
      " |-- Ticket: string (nullable = true)\n",
      " |-- Fare: string (nullable = true)\n",
      " |-- Cabin: string (nullable = true)\n",
      " |-- Embarked: string (nullable = true)\n",
      "\n",
      "root\n",
      " |-- PassengerId: string (nullable = true)\n",
      " |-- Survived: string (nullable = true)\n",
      " |-- Pclass: string (nullable = true)\n",
      " |-- Name: string (nullable = true)\n",
      " |-- Sex: string (nullable = true)\n",
      " |-- Age: string (nullable = true)\n",
      " |-- SibSp: string (nullable = true)\n",
      " |-- Parch: string (nullable = true)\n",
      " |-- Ticket: string (nullable = true)\n",
      " |-- Fare: string (nullable = true)\n",
      " |-- Cabin: string (nullable = true)\n",
      " |-- Embarked: string (nullable = true)\n",
      "\n"
     ]
    }
   ],
   "source": [
    "df_test = spark.read.csv('test.csv', header=True)\n",
    "df_train = spark.read.csv('train.csv', header=True)\n",
    "df_test.printSchema()\n",
    "df_train.printSchema()"
   ]
  },
  {
   "cell_type": "markdown",
   "id": "jewish-calendar",
   "metadata": {},
   "source": [
    "(b) Find columns that include Missing values. After that, fill the mean value for all the\n",
    "missing values. Please drop Ticket and Cabin columns."
   ]
  },
  {
   "cell_type": "code",
   "execution_count": 31,
   "id": "egyptian-court",
   "metadata": {},
   "outputs": [
    {
     "name": "stdout",
     "output_type": "stream",
     "text": [
      "{'Embarked', 'Name', 'Fare', 'Pclass', 'SibSp', 'PassengerId', 'Parch', 'Sex', 'Age'}\n"
     ]
    }
   ],
   "source": [
    "from pyspark.sql.functions import *\n",
    "columns = set(df_test.columns) - set(['Ticket', 'Cabin'])\n",
    "print(columns)\n",
    "df_test = df_test.drop('Ticket')\n",
    "df_test = df_test.drop('Cabin')\n",
    "\n",
    "df_train = df_train.drop('Ticket')\n",
    "df_train = df_train.drop('Cabin')\n",
    "#df_train.where(null).show()"
   ]
  },
  {
   "cell_type": "code",
   "execution_count": 32,
   "id": "surface-disclosure",
   "metadata": {},
   "outputs": [],
   "source": [
    "def null_value_count(df):\n",
    "    null_columns_counts = []\n",
    "    numRows = df.count()\n",
    "    for k in df.columns:\n",
    "        nullRows = df.where(col(k).isNull()).count()\n",
    "        if(nullRows > 0):\n",
    "            temp = k,nullRows\n",
    "            null_columns_counts.append(temp)\n",
    "    return(null_columns_counts)"
   ]
  },
  {
   "cell_type": "code",
   "execution_count": 33,
   "id": "downtown-germany",
   "metadata": {},
   "outputs": [
    {
     "data": {
      "text/plain": [
       "[('Age', 177), ('Embarked', 2)]"
      ]
     },
     "execution_count": 33,
     "metadata": {},
     "output_type": "execute_result"
    }
   ],
   "source": [
    "null_columns_count_list = null_value_count(df_train)\n",
    "null_columns_count_list"
   ]
  },
  {
   "cell_type": "code",
   "execution_count": 34,
   "id": "laden-neighborhood",
   "metadata": {},
   "outputs": [],
   "source": [
    "#test\n",
    "mean_Age_train = df_train.select(mean('Age')).collect()[0][0]\n",
    "#mean_Embarked_train = df_train.select(mean('Embarked')).collect()[0][0]\n"
   ]
  },
  {
   "cell_type": "code",
   "execution_count": 35,
   "id": "gothic-folks",
   "metadata": {},
   "outputs": [],
   "source": [
    "import math\n",
    "\n",
    "df_train = df_train.na.fill({\"Age\" : mean_Age_train})"
   ]
  },
  {
   "cell_type": "code",
   "execution_count": 36,
   "id": "corrected-connectivity",
   "metadata": {},
   "outputs": [
    {
     "data": {
      "text/plain": [
       "[Row(Embarked='Q', count=77),\n",
       " Row(Embarked=None, count=2),\n",
       " Row(Embarked='C', count=168),\n",
       " Row(Embarked='S', count=644)]"
      ]
     },
     "execution_count": 36,
     "metadata": {},
     "output_type": "execute_result"
    }
   ],
   "source": [
    "df_train.groupBy('Embarked').count().collect()"
   ]
  },
  {
   "cell_type": "code",
   "execution_count": 37,
   "id": "floral-speaker",
   "metadata": {},
   "outputs": [],
   "source": [
    "df_train = df_train.na.fill({'Embarked': '0'})"
   ]
  },
  {
   "cell_type": "markdown",
   "id": "miniature-omaha",
   "metadata": {},
   "source": [
    "(c) Visualize a histogram for an Age column.\n"
   ]
  },
  {
   "cell_type": "code",
   "execution_count": 38,
   "id": "horizontal-stuart",
   "metadata": {},
   "outputs": [],
   "source": [
    "toFloat = ['Survived', 'Age', 'PassengerId', 'Pclass', 'SibSp', 'Parch', 'Fare']"
   ]
  },
  {
   "cell_type": "code",
   "execution_count": 39,
   "id": "fuzzy-extra",
   "metadata": {},
   "outputs": [
    {
     "name": "stdout",
     "output_type": "stream",
     "text": [
      "root\n",
      " |-- PassengerId: string (nullable = true)\n",
      " |-- Survived: string (nullable = true)\n",
      " |-- Pclass: string (nullable = true)\n",
      " |-- Name: string (nullable = true)\n",
      " |-- Sex: string (nullable = true)\n",
      " |-- Age: string (nullable = false)\n",
      " |-- SibSp: string (nullable = true)\n",
      " |-- Parch: string (nullable = true)\n",
      " |-- Fare: string (nullable = true)\n",
      " |-- Embarked: string (nullable = false)\n",
      "\n",
      "root\n",
      " |-- PassengerId: double (nullable = true)\n",
      " |-- Survived: double (nullable = true)\n",
      " |-- Pclass: double (nullable = true)\n",
      " |-- Name: string (nullable = true)\n",
      " |-- Sex: string (nullable = true)\n",
      " |-- Age: double (nullable = true)\n",
      " |-- SibSp: double (nullable = true)\n",
      " |-- Parch: double (nullable = true)\n",
      " |-- Fare: double (nullable = true)\n",
      " |-- Embarked: string (nullable = false)\n",
      "\n"
     ]
    }
   ],
   "source": [
    "df_train.printSchema()\n",
    "\n",
    "for col in toFloat:\n",
    "    df_train = df_train.withColumn(col, df_train[col].cast(\"double\").alias(col))\n",
    "\n",
    "\n",
    "df_train.printSchema()"
   ]
  },
  {
   "cell_type": "code",
   "execution_count": 40,
   "id": "helpful-invite",
   "metadata": {},
   "outputs": [
    {
     "data": {
      "text/plain": [
       "(array([ 54.,  46., 177., 346., 118.,  70.,  45.,  24.,   9.,   2.]),\n",
       " array([ 0.42 ,  8.378, 16.336, 24.294, 32.252, 40.21 , 48.168, 56.126,\n",
       "        64.084, 72.042, 80.   ]),\n",
       " <BarContainer object of 10 artists>)"
      ]
     },
     "execution_count": 40,
     "metadata": {},
     "output_type": "execute_result"
    },
    {
     "data": {
      "image/png": "[encoded data removed]",
      "text/plain": [
       "<Figure size 432x288 with 1 Axes>"
      ]
     },
     "metadata": {
      "needs_background": "light"
     },
     "output_type": "display_data"
    }
   ],
   "source": [
    "import matplotlib.pyplot as plt\n",
    "import pyspark\n",
    "from pyspark_dist_explore import hist\n",
    "\n",
    "fig, ax = plt.subplots()\n",
    "ax.set_xlabel('age')\n",
    "ax.set_ylabel('count')\n",
    "hist(ax, df_train.select('Age'))"
   ]
  },
  {
   "cell_type": "markdown",
   "id": "graduate-extraction",
   "metadata": {},
   "source": [
    "(d) Many columns are categorical variables. So we use one-hot encoding using spark ML\n",
    "pipeline API. In this example, we are using StringIndexer and OneHotEncoder to do\n",
    "that"
   ]
  },
  {
   "cell_type": "code",
   "execution_count": 41,
   "id": "extended-press",
   "metadata": {},
   "outputs": [],
   "source": [
    "from pyspark.ml.feature import OneHotEncoder, StringIndexer, VectorIndexer, VectorAssembler\n",
    "from pyspark.ml import Pipeline"
   ]
  },
  {
   "cell_type": "code",
   "execution_count": 42,
   "id": "directed-haiti",
   "metadata": {},
   "outputs": [],
   "source": [
    "col_list = df_train.columns\n",
    "col_list\n",
    "df_train = df_train.drop('Name')\n",
    "str_list = ['Sex', 'Embarked']"
   ]
  },
  {
   "cell_type": "code",
   "execution_count": 43,
   "id": "absolute-welsh",
   "metadata": {},
   "outputs": [
    {
     "data": {
      "text/plain": [
       "[StringIndexer_a716aae75a45, OneHotEncoder_8c325091adf9]"
      ]
     },
     "execution_count": 43,
     "metadata": {},
     "output_type": "execute_result"
    }
   ],
   "source": [
    "_stages = []\n",
    "indexers = [StringIndexer(inputCols = [string for string in str_list], outputCols = [string+'_index' for string in str_list])]\n",
    "\n",
    "encoders = [OneHotEncoder(inputCols = [string+'_index' for string in str_list], outputCols = [string+'_vec' for string in str_list])]\n",
    "\n",
    "_stages += indexers\n",
    "_stages += encoders\n",
    "_stages"
   ]
  },
  {
   "cell_type": "code",
   "execution_count": 44,
   "id": "advisory-binary",
   "metadata": {},
   "outputs": [
    {
     "data": {
      "text/plain": [
       "[StringIndexer_a716aae75a45,\n",
       " OneHotEncoder_8c325091adf9,\n",
       " VectorAssembler_a77a7a4e9dcb]"
      ]
     },
     "execution_count": 44,
     "metadata": {},
     "output_type": "execute_result"
    }
   ],
   "source": [
    "asm_input = ['PassengerId', 'Pclass', 'Age', 'SibSp', 'Parch', 'Fare']\n",
    "asm_input += [string + '_index' for string in str_list]\n",
    "vector_assembler = VectorAssembler(inputCols=asm_input, outputCol='features')\n",
    "_stages += [vector_assembler]\n",
    "_stages"
   ]
  },
  {
   "cell_type": "code",
   "execution_count": 45,
   "id": "demonstrated-sheet",
   "metadata": {},
   "outputs": [],
   "source": [
    "pipeline = Pipeline(stages = _stages)"
   ]
  },
  {
   "cell_type": "markdown",
   "id": "interim-appeal",
   "metadata": {},
   "source": [
    "(e) One we prepared our data, we split the data into two sets: training (80 %) and testing\n",
    "(20 %) datasets. We use Spark’s randomSplit method to get them. Please leave the\n",
    "code.\n"
   ]
  },
  {
   "cell_type": "code",
   "execution_count": 46,
   "id": "boolean-vulnerability",
   "metadata": {},
   "outputs": [],
   "source": [
    "train, test = df_train.randomSplit([0.8, 0.2])"
   ]
  },
  {
   "cell_type": "code",
   "execution_count": 47,
   "id": "foreign-boxing",
   "metadata": {},
   "outputs": [
    {
     "name": "stdout",
     "output_type": "stream",
     "text": [
      "696\n",
      "195\n",
      "DataFrame[PassengerId: double, Survived: double, Pclass: double, Sex: string, Age: double, SibSp: double, Parch: double, Fare: double, Embarked: string]\n",
      "DataFrame[PassengerId: double, Survived: double, Pclass: double, Sex: string, Age: double, SibSp: double, Parch: double, Fare: double, Embarked: string]\n"
     ]
    }
   ],
   "source": [
    "print(train.count())\n",
    "print(test.count())\n",
    "print(test)\n",
    "print(train)"
   ]
  },
  {
   "cell_type": "markdown",
   "id": "fitted-deputy",
   "metadata": {},
   "source": [
    "2 Classification using Logistic Regression (20 pts)\n",
    "\n",
    "In this questions below, you will train and test a logistic regression model. Please leave\n",
    "your codes for each part in your report.\n"
   ]
  },
  {
   "cell_type": "markdown",
   "id": "surgical-integer",
   "metadata": {},
   "source": [
    "(a) Create stages for all features, which are processed above, and make a pipeline with\n",
    "logistic regression using default parameters.\n"
   ]
  },
  {
   "cell_type": "code",
   "execution_count": 48,
   "id": "expensive-champion",
   "metadata": {},
   "outputs": [],
   "source": [
    "from pyspark.ml.classification import LogisticRegression\n",
    "from pyspark.ml.feature import VectorAssembler"
   ]
  },
  {
   "cell_type": "code",
   "execution_count": 49,
   "id": "talented-chain",
   "metadata": {},
   "outputs": [
    {
     "data": {
      "text/plain": [
       "[StringIndexer_a716aae75a45,\n",
       " OneHotEncoder_8c325091adf9,\n",
       " VectorAssembler_a77a7a4e9dcb,\n",
       " LogisticRegression_13fe042b5307]"
      ]
     },
     "execution_count": 49,
     "metadata": {},
     "output_type": "execute_result"
    }
   ],
   "source": [
    "lr = LogisticRegression(labelCol='Survived', featuresCol = 'features')\n",
    "_stages += [lr]\n",
    "_stages"
   ]
  },
  {
   "cell_type": "code",
   "execution_count": 50,
   "id": "painted-julian",
   "metadata": {},
   "outputs": [],
   "source": [
    "pipeline = Pipeline(stages = _stages)"
   ]
  },
  {
   "cell_type": "markdown",
   "id": "golden-virus",
   "metadata": {},
   "source": [
    "(b) Fit the model."
   ]
  },
  {
   "cell_type": "code",
   "execution_count": 51,
   "id": "classified-contrary",
   "metadata": {},
   "outputs": [
    {
     "data": {
      "text/plain": [
       "DataFrame[PassengerId: double, Survived: double, Pclass: double, Sex: string, Age: double, SibSp: double, Parch: double, Fare: double, Embarked: string, Sex_index: double, Embarked_index: double, Sex_vec: vector, Embarked_vec: vector, features: vector, rawPrediction: vector, probability: vector, prediction: double]"
      ]
     },
     "execution_count": 51,
     "metadata": {},
     "output_type": "execute_result"
    }
   ],
   "source": [
    "model = pipeline.fit(train)\n",
    "train_predict = model.transform(train).select('*')\n",
    "train_predict"
   ]
  },
  {
   "cell_type": "markdown",
   "id": "seasonal-cross",
   "metadata": {},
   "source": [
    "(c) Once model is trained, we need to know how it’s performing. So we use precision\n",
    "score as our evaluation metric. Report the result. You can refer to RDD-Evaluation\n",
    "or Precision with Micro option (Scikit-learn)."
   ]
  },
  {
   "cell_type": "code",
   "execution_count": 52,
   "id": "referenced-burns",
   "metadata": {},
   "outputs": [],
   "source": [
    "from pyspark.ml.evaluation import MulticlassClassificationEvaluator\n",
    "test_predict = model.transform(test)"
   ]
  },
  {
   "cell_type": "code",
   "execution_count": 53,
   "id": "empirical-knock",
   "metadata": {},
   "outputs": [],
   "source": [
    "prediction = test_predict.select('PassengerId', 'probability', 'prediction')\n"
   ]
  },
  {
   "cell_type": "code",
   "execution_count": 54,
   "id": "european-plant",
   "metadata": {},
   "outputs": [],
   "source": [
    "from pyspark.mllib.evaluation import MulticlassMetrics"
   ]
  },
  {
   "cell_type": "code",
   "execution_count": 55,
   "id": "liquid-teach",
   "metadata": {},
   "outputs": [
    {
     "name": "stdout",
     "output_type": "stream",
     "text": [
      "train accuracy\n"
     ]
    },
    {
     "data": {
      "text/plain": [
       "0.7692307692307693"
      ]
     },
     "execution_count": 55,
     "metadata": {},
     "output_type": "execute_result"
    }
   ],
   "source": [
    "evaluator = MulticlassClassificationEvaluator(labelCol='Survived', metricName='accuracy')\n",
    "print('train accuracy')\n",
    "evaluator.evaluate(test_predict)"
   ]
  },
  {
   "cell_type": "code",
   "execution_count": 56,
   "id": "brutal-documentary",
   "metadata": {},
   "outputs": [
    {
     "name": "stdout",
     "output_type": "stream",
     "text": [
      "test presicion\n"
     ]
    },
    {
     "data": {
      "text/plain": [
       "0.7696068376068377"
      ]
     },
     "execution_count": 56,
     "metadata": {},
     "output_type": "execute_result"
    }
   ],
   "source": [
    "evaluator = MulticlassClassificationEvaluator(labelCol='Survived', metricName='weightedPrecision')\n",
    "print('test presicion')\n",
    "evaluator.evaluate(test_predict)"
   ]
  },
  {
   "cell_type": "markdown",
   "id": "relative-binary",
   "metadata": {},
   "source": [
    "(d) From the fitted model, please identify which attribute is contributed the most? (Hint:\n",
    "Print the coefficients and intercepts for logistic regression.)\n"
   ]
  },
  {
   "cell_type": "code",
   "execution_count": 57,
   "id": "reserved-event",
   "metadata": {},
   "outputs": [
    {
     "data": {
      "text/plain": [
       "DenseVector([0.0001, -1.1853, -0.0377, -0.2417, -0.0621, 0.001, 2.8228, 0.2864])"
      ]
     },
     "execution_count": 57,
     "metadata": {},
     "output_type": "execute_result"
    }
   ],
   "source": [
    "model.stages[-1].coefficients"
   ]
  },
  {
   "cell_type": "markdown",
   "id": "higher-refrigerator",
   "metadata": {},
   "source": [
    "1: PassengerId\n",
    "2: Pclass\n",
    "3: Age\n",
    "4: SibSp\n",
    "5: Parch\n",
    "6: Fare\n",
    "7: Sex_index\n",
    "8: Embarked_index\n"
   ]
  },
  {
   "cell_type": "markdown",
   "id": "hundred-optimum",
   "metadata": {},
   "source": [
    "the correlation coefficient is related to feature importance. so, if the absolute value of the coefficient is large value not close to zero, it is importance feature of ML model. As a result, the Sex attribute is contributed the most in fitted model."
   ]
  }
 ],
 "metadata": {
  "kernelspec": {
   "display_name": "Python 3",
   "language": "python",
   "name": "python3"
  },
  "language_info": {
   "codemirror_mode": {
    "name": "ipython",
    "version": 3
   },
   "file_extension": ".py",
   "mimetype": "text/x-python",
   "name": "python",
   "nbconvert_exporter": "python",
   "pygments_lexer": "ipython3",
   "version": "3.8.5"
  }
 },
 "nbformat": 4,
 "nbformat_minor": 5
}
