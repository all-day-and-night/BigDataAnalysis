{
 "cells": [
  {
   "cell_type": "markdown",
   "metadata": {
    "nbgrader": {
     "grade": false,
     "locked": true,
     "solution": false
    }
   },
   "source": [
    "# Homework 2 (Due: 2021.04.01 11:59 PM)"
   ]
  },
  {
   "cell_type": "code",
   "execution_count": null,
   "metadata": {},
   "outputs": [],
   "source": [
    "Name:ju won ung"
   ]
  },
  {
   "cell_type": "markdown",
   "metadata": {},
   "source": [
    "Student ID:2015312490"
   ]
  },
  {
   "cell_type": "markdown",
   "metadata": {
    "nbgrader": {
     "grade": false,
     "locked": true,
     "solution": false
    }
   },
   "source": [
    "For this homework, you are provided with an input file.\n",
    "Submit the code that you used for analysis as an ipython notebook and an exported PDF file."
   ]
  },
  {
   "cell_type": "markdown",
   "metadata": {
    "nbgrader": {
     "grade": false,
     "locked": true,
     "solution": false
    }
   },
   "source": [
    "# Q1 Analyzing the Election Data (3 x 8 = 24 pts)"
   ]
  },
  {
   "cell_type": "markdown",
   "metadata": {
    "nbgrader": {
     "grade": false,
     "locked": true,
     "solution": false
    }
   },
   "source": [
    "Run the following cell to set the filename."
   ]
  },
  {
   "cell_type": "code",
   "execution_count": 1,
   "metadata": {
    "nbgrader": {
     "grade": false,
     "locked": true,
     "solution": false
    }
   },
   "outputs": [],
   "source": [
    "import pandas as pd\n",
    "filename = 'bush-gore-results-fl_demo.csv'"
   ]
  },
  {
   "cell_type": "markdown",
   "metadata": {
    "collapsed": true,
    "nbgrader": {
     "grade": false,
     "locked": true,
     "solution": false
    }
   },
   "source": [
    "(a) Determine how many counties Bush won. You can assume that each row corresponds to a unique county.\n",
    "    Demo file: 'bush-gore-results-fl_demo.csv' "
   ]
  },
  {
   "cell_type": "code",
   "execution_count": 2,
   "metadata": {},
   "outputs": [
    {
     "name": "stdout",
     "output_type": "stream",
     "text": [
      "      bush    gore\n",
      "1     5710    2492\n",
      "2    38737   18950\n",
      "3     5514    3175\n",
      "4   115285   97418\n",
      "6     2973    2255\n",
      "7    35526   29745\n",
      "8    29865   25625\n",
      "9    41836   14732\n",
      "10   60533   30018\n",
      "11   11064    7147\n",
      "12    4356    3420\n",
      "13    2797    1926\n",
      "14  152198  107964\n",
      "15   73117   41043\n",
      "17    2554    2146\n",
      "19    3400    2010\n",
      "20    1941    1542\n",
      "21    3650    2497\n",
      "22    2246    1822\n",
      "23    3865    2439\n",
      "24    4847    3340\n",
      "26   20306   14267\n",
      "27  180860  169657\n",
      "28    5111    2277\n",
      "29   28735   19868\n",
      "30    9238    6968\n",
      "32    1770     889\n",
      "33   50110   36671\n",
      "34  106241   73660\n",
      "36    6958    5498\n",
      "37    1417    1117\n",
      "38    3138    3114\n",
      "39   58052   49277\n",
      "40   55241   44765\n",
      "41   34070   26720\n",
      "44   16380    6979\n",
      "45   52193   17048\n",
      "46    5157    4688\n",
      "52   90280   75293\n",
      "53   13547   12202\n",
      "54   36374   12902\n",
      "55   83200   72953\n",
      "56   75777   59274\n",
      "57   39646   19602\n",
      "59   12227    9737\n",
      "60    8106    4175\n",
      "61    4156    2749\n",
      "62    2432    1507\n",
      "64    4612    3938\n",
      "65   12282    5742\n",
      "66    5094    2898\n",
      "count of bush won 51\n"
     ]
    }
   ],
   "source": [
    "#\n",
    "# YOUR CODE HERE\n",
    "#\n",
    "df = pd.read_csv(filename)\n",
    "length = df.shape[0]\n",
    "\n",
    "df_1 = df.loc[:, ['bush', 'gore']]\n",
    "\"\"\"bush_won = 0\n",
    "for i in range(0, length):\n",
    "    if df_1.loc[i, 'bush'] > df_1.loc[i, 'gore']:\n",
    "        bush_won += 1\"\"\"\n",
    "        \n",
    "df_bush_won = df_1.loc[df_1['bush'] > df_1['gore']]\n",
    "print(df_bush_won)\n",
    "print(\"count of bush won %d\" % df_bush_won.shape[0])\n"
   ]
  },
  {
   "cell_type": "code",
   "execution_count": 3,
   "metadata": {},
   "outputs": [
    {
     "data": {
      "text/html": [
       "<div>\n",
       "<style scoped>\n",
       "    .dataframe tbody tr th:only-of-type {\n",
       "        vertical-align: middle;\n",
       "    }\n",
       "\n",
       "    .dataframe tbody tr th {\n",
       "        vertical-align: top;\n",
       "    }\n",
       "\n",
       "    .dataframe thead th {\n",
       "        text-align: right;\n",
       "    }\n",
       "</style>\n",
       "<table border=\"1\" class=\"dataframe\">\n",
       "  <thead>\n",
       "    <tr style=\"text-align: right;\">\n",
       "      <th></th>\n",
       "      <th>co</th>\n",
       "      <th>lat</th>\n",
       "      <th>lon</th>\n",
       "      <th>npop</th>\n",
       "      <th>whit</th>\n",
       "      <th>blac</th>\n",
       "      <th>hisp</th>\n",
       "      <th>o65</th>\n",
       "      <th>hsed</th>\n",
       "      <th>coll</th>\n",
       "      <th>...</th>\n",
       "      <th>bush</th>\n",
       "      <th>gore</th>\n",
       "      <th>brow</th>\n",
       "      <th>nade</th>\n",
       "      <th>harr</th>\n",
       "      <th>hage</th>\n",
       "      <th>buch</th>\n",
       "      <th>mcre</th>\n",
       "      <th>phil</th>\n",
       "      <th>moor</th>\n",
       "    </tr>\n",
       "  </thead>\n",
       "  <tbody>\n",
       "    <tr>\n",
       "      <th>0</th>\n",
       "      <td>1</td>\n",
       "      <td>31.7</td>\n",
       "      <td>84.4</td>\n",
       "      <td>198326</td>\n",
       "      <td>74.4</td>\n",
       "      <td>21.8</td>\n",
       "      <td>4.7</td>\n",
       "      <td>9.4</td>\n",
       "      <td>82.7</td>\n",
       "      <td>34.6</td>\n",
       "      <td>...</td>\n",
       "      <td>34224</td>\n",
       "      <td>47465</td>\n",
       "      <td>758</td>\n",
       "      <td>3326</td>\n",
       "      <td>106</td>\n",
       "      <td>142</td>\n",
       "      <td>363</td>\n",
       "      <td>104</td>\n",
       "      <td>120</td>\n",
       "      <td>121</td>\n",
       "    </tr>\n",
       "    <tr>\n",
       "      <th>1</th>\n",
       "      <td>2</td>\n",
       "      <td>32.3</td>\n",
       "      <td>84.3</td>\n",
       "      <td>20761</td>\n",
       "      <td>82.4</td>\n",
       "      <td>16.8</td>\n",
       "      <td>1.5</td>\n",
       "      <td>7.7</td>\n",
       "      <td>64.1</td>\n",
       "      <td>5.7</td>\n",
       "      <td>...</td>\n",
       "      <td>5710</td>\n",
       "      <td>2492</td>\n",
       "      <td>117</td>\n",
       "      <td>153</td>\n",
       "      <td>100</td>\n",
       "      <td>103</td>\n",
       "      <td>173</td>\n",
       "      <td>100</td>\n",
       "      <td>103</td>\n",
       "      <td>103</td>\n",
       "    </tr>\n",
       "    <tr>\n",
       "      <th>2</th>\n",
       "      <td>3</td>\n",
       "      <td>32.2</td>\n",
       "      <td>87.6</td>\n",
       "      <td>146223</td>\n",
       "      <td>84.2</td>\n",
       "      <td>12.4</td>\n",
       "      <td>2.4</td>\n",
       "      <td>11.9</td>\n",
       "      <td>74.7</td>\n",
       "      <td>15.7</td>\n",
       "      <td>...</td>\n",
       "      <td>38737</td>\n",
       "      <td>18950</td>\n",
       "      <td>271</td>\n",
       "      <td>928</td>\n",
       "      <td>105</td>\n",
       "      <td>118</td>\n",
       "      <td>348</td>\n",
       "      <td>103</td>\n",
       "      <td>118</td>\n",
       "      <td>127</td>\n",
       "    </tr>\n",
       "    <tr>\n",
       "      <th>3</th>\n",
       "      <td>4</td>\n",
       "      <td>31.9</td>\n",
       "      <td>84.2</td>\n",
       "      <td>24646</td>\n",
       "      <td>76.1</td>\n",
       "      <td>22.9</td>\n",
       "      <td>2.6</td>\n",
       "      <td>11.8</td>\n",
       "      <td>65.0</td>\n",
       "      <td>8.1</td>\n",
       "      <td>...</td>\n",
       "      <td>5514</td>\n",
       "      <td>3175</td>\n",
       "      <td>128</td>\n",
       "      <td>184</td>\n",
       "      <td>100</td>\n",
       "      <td>102</td>\n",
       "      <td>165</td>\n",
       "      <td>100</td>\n",
       "      <td>102</td>\n",
       "      <td>103</td>\n",
       "    </tr>\n",
       "    <tr>\n",
       "      <th>4</th>\n",
       "      <td>5</td>\n",
       "      <td>30.3</td>\n",
       "      <td>82.7</td>\n",
       "      <td>460977</td>\n",
       "      <td>88.3</td>\n",
       "      <td>9.2</td>\n",
       "      <td>4.1</td>\n",
       "      <td>16.5</td>\n",
       "      <td>82.3</td>\n",
       "      <td>20.4</td>\n",
       "      <td>...</td>\n",
       "      <td>115285</td>\n",
       "      <td>97418</td>\n",
       "      <td>743</td>\n",
       "      <td>4570</td>\n",
       "      <td>111</td>\n",
       "      <td>139</td>\n",
       "      <td>670</td>\n",
       "      <td>111</td>\n",
       "      <td>172</td>\n",
       "      <td>176</td>\n",
       "    </tr>\n",
       "    <tr>\n",
       "      <th>...</th>\n",
       "      <td>...</td>\n",
       "      <td>...</td>\n",
       "      <td>...</td>\n",
       "      <td>...</td>\n",
       "      <td>...</td>\n",
       "      <td>...</td>\n",
       "      <td>...</td>\n",
       "      <td>...</td>\n",
       "      <td>...</td>\n",
       "      <td>...</td>\n",
       "      <td>...</td>\n",
       "      <td>...</td>\n",
       "      <td>...</td>\n",
       "      <td>...</td>\n",
       "      <td>...</td>\n",
       "      <td>...</td>\n",
       "      <td>...</td>\n",
       "      <td>...</td>\n",
       "      <td>...</td>\n",
       "      <td>...</td>\n",
       "      <td>...</td>\n",
       "    </tr>\n",
       "    <tr>\n",
       "      <th>62</th>\n",
       "      <td>63</td>\n",
       "      <td>32.0</td>\n",
       "      <td>84.4</td>\n",
       "      <td>12359</td>\n",
       "      <td>71.0</td>\n",
       "      <td>27.8</td>\n",
       "      <td>4.8</td>\n",
       "      <td>7.0</td>\n",
       "      <td>67.7</td>\n",
       "      <td>7.9</td>\n",
       "      <td>...</td>\n",
       "      <td>2432</td>\n",
       "      <td>1507</td>\n",
       "      <td>115</td>\n",
       "      <td>133</td>\n",
       "      <td>101</td>\n",
       "      <td>100</td>\n",
       "      <td>137</td>\n",
       "      <td>100</td>\n",
       "      <td>101</td>\n",
       "      <td>100</td>\n",
       "    </tr>\n",
       "    <tr>\n",
       "      <th>63</th>\n",
       "      <td>64</td>\n",
       "      <td>31.1</td>\n",
       "      <td>83.1</td>\n",
       "      <td>419797</td>\n",
       "      <td>88.0</td>\n",
       "      <td>10.5</td>\n",
       "      <td>5.0</td>\n",
       "      <td>22.7</td>\n",
       "      <td>75.4</td>\n",
       "      <td>14.8</td>\n",
       "      <td>...</td>\n",
       "      <td>82314</td>\n",
       "      <td>97163</td>\n",
       "      <td>542</td>\n",
       "      <td>3003</td>\n",
       "      <td>108</td>\n",
       "      <td>136</td>\n",
       "      <td>596</td>\n",
       "      <td>105</td>\n",
       "      <td>120</td>\n",
       "      <td>169</td>\n",
       "    </tr>\n",
       "    <tr>\n",
       "      <th>64</th>\n",
       "      <td>65</td>\n",
       "      <td>32.2</td>\n",
       "      <td>86.4</td>\n",
       "      <td>19172</td>\n",
       "      <td>83.9</td>\n",
       "      <td>14.9</td>\n",
       "      <td>0.9</td>\n",
       "      <td>10.9</td>\n",
       "      <td>71.6</td>\n",
       "      <td>10.9</td>\n",
       "      <td>...</td>\n",
       "      <td>4612</td>\n",
       "      <td>3938</td>\n",
       "      <td>130</td>\n",
       "      <td>249</td>\n",
       "      <td>102</td>\n",
       "      <td>103</td>\n",
       "      <td>146</td>\n",
       "      <td>101</td>\n",
       "      <td>100</td>\n",
       "      <td>106</td>\n",
       "    </tr>\n",
       "    <tr>\n",
       "      <th>65</th>\n",
       "      <td>66</td>\n",
       "      <td>32.6</td>\n",
       "      <td>88.2</td>\n",
       "      <td>37914</td>\n",
       "      <td>88.9</td>\n",
       "      <td>8.6</td>\n",
       "      <td>1.2</td>\n",
       "      <td>14.9</td>\n",
       "      <td>66.5</td>\n",
       "      <td>11.9</td>\n",
       "      <td>...</td>\n",
       "      <td>12282</td>\n",
       "      <td>5742</td>\n",
       "      <td>168</td>\n",
       "      <td>365</td>\n",
       "      <td>103</td>\n",
       "      <td>111</td>\n",
       "      <td>220</td>\n",
       "      <td>102</td>\n",
       "      <td>107</td>\n",
       "      <td>118</td>\n",
       "    </tr>\n",
       "    <tr>\n",
       "      <th>66</th>\n",
       "      <td>67</td>\n",
       "      <td>32.6</td>\n",
       "      <td>87.7</td>\n",
       "      <td>20221</td>\n",
       "      <td>79.7</td>\n",
       "      <td>17.6</td>\n",
       "      <td>1.5</td>\n",
       "      <td>16.4</td>\n",
       "      <td>60.9</td>\n",
       "      <td>7.4</td>\n",
       "      <td>...</td>\n",
       "      <td>5094</td>\n",
       "      <td>2898</td>\n",
       "      <td>132</td>\n",
       "      <td>193</td>\n",
       "      <td>100</td>\n",
       "      <td>102</td>\n",
       "      <td>188</td>\n",
       "      <td>100</td>\n",
       "      <td>109</td>\n",
       "      <td>105</td>\n",
       "    </tr>\n",
       "  </tbody>\n",
       "</table>\n",
       "<p>67 rows × 21 columns</p>\n",
       "</div>"
      ],
      "text/plain": [
       "    co   lat   lon    npop  whit  blac  hisp   o65  hsed  coll  ...    bush  \\\n",
       "0    1  31.7  84.4  198326  74.4  21.8   4.7   9.4  82.7  34.6  ...   34224   \n",
       "1    2  32.3  84.3   20761  82.4  16.8   1.5   7.7  64.1   5.7  ...    5710   \n",
       "2    3  32.2  87.6  146223  84.2  12.4   2.4  11.9  74.7  15.7  ...   38737   \n",
       "3    4  31.9  84.2   24646  76.1  22.9   2.6  11.8  65.0   8.1  ...    5514   \n",
       "4    5  30.3  82.7  460977  88.3   9.2   4.1  16.5  82.3  20.4  ...  115285   \n",
       "..  ..   ...   ...     ...   ...   ...   ...   ...   ...   ...  ...     ...   \n",
       "62  63  32.0  84.4   12359  71.0  27.8   4.8   7.0  67.7   7.9  ...    2432   \n",
       "63  64  31.1  83.1  419797  88.0  10.5   5.0  22.7  75.4  14.8  ...   82314   \n",
       "64  65  32.2  86.4   19172  83.9  14.9   0.9  10.9  71.6  10.9  ...    4612   \n",
       "65  66  32.6  88.2   37914  88.9   8.6   1.2  14.9  66.5  11.9  ...   12282   \n",
       "66  67  32.6  87.7   20221  79.7  17.6   1.5  16.4  60.9   7.4  ...    5094   \n",
       "\n",
       "     gore  brow  nade  harr  hage  buch  mcre  phil  moor  \n",
       "0   47465   758  3326   106   142   363   104   120   121  \n",
       "1    2492   117   153   100   103   173   100   103   103  \n",
       "2   18950   271   928   105   118   348   103   118   127  \n",
       "3    3175   128   184   100   102   165   100   102   103  \n",
       "4   97418   743  4570   111   139   670   111   172   176  \n",
       "..    ...   ...   ...   ...   ...   ...   ...   ...   ...  \n",
       "62   1507   115   133   101   100   137   100   101   100  \n",
       "63  97163   542  3003   108   136   596   105   120   169  \n",
       "64   3938   130   249   102   103   146   101   100   106  \n",
       "65   5742   168   365   103   111   220   102   107   118  \n",
       "66   2898   132   193   100   102   188   100   109   105  \n",
       "\n",
       "[67 rows x 21 columns]"
      ]
     },
     "execution_count": 3,
     "metadata": {},
     "output_type": "execute_result"
    }
   ],
   "source": [
    "df"
   ]
  },
  {
   "cell_type": "markdown",
   "metadata": {
    "nbgrader": {
     "grade": false,
     "locked": true,
     "solution": false
    }
   },
   "source": [
    "(b) Determine who won the largest county. The column named \"npop\" records the size of each county.\n",
    "    Demo file: 'bush-gore-results-fl_demo.csv' "
   ]
  },
  {
   "cell_type": "code",
   "execution_count": 4,
   "metadata": {},
   "outputs": [
    {
     "name": "stdout",
     "output_type": "stream",
     "text": [
      "gore\n"
     ]
    }
   ],
   "source": [
    "#\n",
    "# YOUR CODE HERE\n",
    "#\n",
    "npop_idx = df.loc[:, 'npop'].idxmax(axis=0)\n",
    "\n",
    "df_npop = df.loc[npop_idx, 'bush':]\n",
    "candidate1 = df_npop.idxmax(axis=0)\n",
    "print(candidate1)"
   ]
  },
  {
   "cell_type": "markdown",
   "metadata": {
    "nbgrader": {
     "grade": false,
     "locked": true,
     "solution": false
    }
   },
   "source": [
    "(c) Determine the average number of votes per county that Buchanan obtained. You can assume that each row corresponds to a unique county.\n",
    "    Demo file: 'bush-gore-results-fl_demo.csv' "
   ]
  },
  {
   "cell_type": "code",
   "execution_count": 5,
   "metadata": {},
   "outputs": [
    {
     "name": "stdout",
     "output_type": "stream",
     "text": [
      "360.67164179104475\n"
     ]
    }
   ],
   "source": [
    "#\n",
    "# YOUR CODE HERE\n",
    "#\n",
    "df_buch = df.loc[:, ['buch']]\n",
    "buch_mean = df.buch.mean()\n",
    "print(buch_mean)\n"
   ]
  },
  {
   "cell_type": "markdown",
   "metadata": {
    "nbgrader": {
     "grade": false,
     "locked": true,
     "solution": false
    }
   },
   "source": [
    "(d) Determine, for the number of votes Buchanan obtained in Palm Beach, how many standard deviations it is away from Buchanan's overall mean, in absolute value. The row with coounty number 50 (\"co\"=50) records the results for Palm Beach County. (You can assumed that such a row will exist in the test case.)\n",
    "    Demo file: 'bush-gore-results-fl_demo.csv' "
   ]
  },
  {
   "cell_type": "code",
   "execution_count": 6,
   "metadata": {},
   "outputs": [
    {
     "name": "stdout",
     "output_type": "stream",
     "text": [
      "6.993018491215867\n"
     ]
    }
   ],
   "source": [
    "#\n",
    "# YOUR CODE HERE\n",
    "#\n",
    "df_buch = df.loc[:, ['buch']]\n",
    "buch_mean = float(df_buch.mean())\n",
    "buch_std = float(df_buch.std())\n",
    "x = float(df.loc[df['co']==50, 'buch'])\n",
    "\n",
    "\"\"\"df_palm = df.loc[df['co']==50]\n",
    "palm_std = df_palm.loc[:, 'bush':]\"\"\"\n",
    "\n",
    "print(abs(float((x-buch_mean)/buch_std)))\n"
   ]
  },
  {
   "cell_type": "markdown",
   "metadata": {},
   "source": [
    "(e) Now calculate the above statistic (same as in part f) for all the counties and report them in decreasing order.\n",
    "    Demo file: 'bush-gore-results-fl_demo.csv' \n",
    "    Example output: \n",
    "    county_50 6.993018  \n",
    "    county_52 ...\n",
    "    ...\n",
    "    ..."
   ]
  },
  {
   "cell_type": "code",
   "execution_count": 7,
   "metadata": {},
   "outputs": [
    {
     "name": "stdout",
     "output_type": "stream",
     "text": [
      "county_50 6.993018\n",
      "\n",
      "county_52 1.672122\n",
      "\n",
      "county_28 1.303171\n",
      "\n",
      "county_6  1.172038\n",
      "\n",
      "county_15 0.869765\n",
      "\n",
      "county_51 0.687512\n",
      "\n",
      "county_5  0.687512\n",
      "\n",
      "county_41 0.671954\n",
      "\n",
      "county_43 0.665286\n",
      "\n",
      "county_53 0.603053\n",
      "\n",
      "county_21 0.559365\n",
      "\n",
      "county_33 0.557142\n",
      "\n",
      "county_16 0.536376\n",
      "\n",
      "county_25 0.530471\n",
      "\n",
      "county_23 0.528248\n",
      "\n",
      "county_64 0.523040\n",
      "\n",
      "county_62 0.519358\n",
      "\n",
      "county_20 0.514913\n",
      "\n",
      "county_39 0.514913\n",
      "\n",
      "county_32 0.514913\n",
      "\n",
      "county_14 0.514913\n",
      "\n",
      "county_24 0.512690\n",
      "\n",
      "county_18 0.506022\n",
      "\n",
      "county_13 0.499354\n",
      "\n",
      "county_63 0.497132\n",
      "\n",
      "county_19 0.494909\n",
      "\n",
      "county_38 0.492687\n",
      "\n",
      "county_47 0.483796\n",
      "\n",
      "county_65 0.477128\n",
      "\n",
      "county_44 0.474906\n",
      "\n",
      "county_4  0.434899\n",
      "\n",
      "county_37 0.430454\n",
      "\n",
      "county_22 0.421564\n",
      "\n",
      "county_2  0.417118\n",
      "\n",
      "county_48 0.411910\n",
      "\n",
      "county_29 0.410451\n",
      "\n",
      "county_17 0.394892\n",
      "\n",
      "county_67 0.383779\n",
      "\n",
      "county_12 0.381557\n",
      "\n",
      "county_45 0.379334\n",
      "\n",
      "county_7  0.379334\n",
      "\n",
      "county_31 0.352663\n",
      "\n",
      "county_30 0.345995\n",
      "\n",
      "county_61 0.339327\n",
      "\n",
      "county_42 0.330437\n",
      "\n",
      "county_60 0.325992\n",
      "\n",
      "county_66 0.312656\n",
      "\n",
      "county_11 0.308211\n",
      "\n",
      "county_59 0.303766\n",
      "\n",
      "county_27 0.297098\n",
      "\n",
      "county_49 0.257091\n",
      "\n",
      "county_54 0.250424\n",
      "\n",
      "county_8  0.174855\n",
      "\n",
      "county_10 0.165965\n",
      "\n",
      "county_57 0.148184\n",
      "\n",
      "county_55 0.111860\n",
      "\n",
      "county_35 0.098524\n",
      "\n",
      "county_56 0.098524\n",
      "\n",
      "county_58 0.070393\n",
      "\n",
      "county_34 0.062963\n",
      "\n",
      "county_36 0.047404\n",
      "\n",
      "county_26 0.041500\n",
      "\n",
      "county_3  0.028164\n",
      "\n",
      "county_40 0.022956\n",
      "\n",
      "county_9  0.020733\n",
      "\n",
      "county_46 0.014065\n",
      "\n",
      "county_1  0.005175\n",
      "\n"
     ]
    }
   ],
   "source": [
    "#\n",
    "# YOUR CODE HERE\n",
    "#\n",
    "\"\"\"df_buch = df.loc[:, ['buch']]\n",
    "buch_mean = float(df_buch.mean())\n",
    "buch_std = float(df_buch.std())\"\"\"\n",
    "\n",
    "list = []\n",
    "\n",
    "for idx, value in df_buch.iterrows():\n",
    "    list.append(abs(float((value-buch_mean)/buch_std)))\n",
    "    \n",
    "desc_or = pd.DataFrame({\"co\":range(1, df.shape[0]+1)})\n",
    "desc_or.loc[:, 'value'] = pd.Series(list)\n",
    "desc_or_sorted = desc_or.sort_values(by=['value'], axis=0, ascending=False)\n",
    "\n",
    "for idx, value in desc_or_sorted.iterrows():\n",
    "    print(\"county_%-2d %.6f\\n\" % (int(value.iloc[0]), value.iloc[1]))\n"
   ]
  },
  {
   "cell_type": "markdown",
   "metadata": {
    "nbgrader": {
     "grade": false,
     "locked": true,
     "solution": false
    }
   },
   "source": [
    "(f) Assuming that the votes were distributed across the white, black, and hispanic population uniformly, determine which candidate obtained the largest number of votes for each subpopulation.\n",
    "    Demo file: 'bush-gore-results-fl_demo.csv' \n",
    "    Example output:\n",
    "    white: bush\n",
    "    black: ..\n",
    "    hispanic: .."
   ]
  },
  {
   "cell_type": "code",
   "execution_count": 8,
   "metadata": {},
   "outputs": [
    {
     "name": "stdout",
     "output_type": "stream",
     "text": [
      "the candidate obtainged the largest number of votes for white people : bush\n",
      "the candidate obtainged the largest number of votes for black people : gore\n",
      "the candidate obtainged the largest number of votes for hispanic people : gore\n"
     ]
    }
   ],
   "source": [
    "#\n",
    "# YOUR CODE HERE\n",
    "#\n",
    "candidate_list = ['bush', 'gore', 'brow', 'nade', 'harr', 'hage', 'buch', 'mcre', 'phil', 'moor']\n",
    "df_f = df.loc[:, ['npop', 'whit', 'blac', 'hisp', 'bush', 'gore', 'brow', 'nade', 'harr', 'hage', 'buch', 'mcre', 'phil', 'moor']]\n",
    "df_temp = df.loc[:, ['whit', 'blac', 'hisp']]\n",
    "df_per = df_temp.sum(axis=1)\n",
    "df_f['per'] = df_per\n",
    "#make npop uniformly\n",
    "\"\"\"\n",
    "whit_n = []\n",
    "blac_n = []\n",
    "hisp_n = []\n",
    "\n",
    "for idx, value in df_f.iterrows():\n",
    "    whit_n.append(value.loc['npop']*value.loc['whit']/100.0)\n",
    "    blac_n.append(value.loc['npop']*value.loc['blac']/100.0)\n",
    "    hisp_n.append(value.loc['npop']*value.loc['hisp']/100.0)\n",
    "#find the percentage of votes of candidates\n",
    "df_per = df_f.loc[:, 'bush':].sum(axis=1)\n",
    "df_f['total'] = df_per\"\"\"\n",
    "\n",
    "length = df_f.shape[0]\n",
    "whit_per = []\n",
    "blac_per = []\n",
    "hisp_per = []\n",
    "for idx, row in df_f.iterrows():\n",
    "    temp = []\n",
    "    for name in candidate_list:\n",
    "        temp.append(row.loc[name]*row.loc['whit']/row.loc['per'])\n",
    "    whit_per.append(temp)\n",
    "    \n",
    "    temp = []\n",
    "    for name in candidate_list:\n",
    "        temp.append(row.loc[name]*row.loc['blac']/row.loc['per'])\n",
    "    blac_per.append(temp)\n",
    "    \n",
    "    temp = []\n",
    "    for name in candidate_list:\n",
    "        temp.append(row.loc[name]*row.loc['hisp']/row.loc['per'])\n",
    "    hisp_per.append(temp)\n",
    "\n",
    "\n",
    "    \n",
    "df_whit = pd.DataFrame(whit_per, columns = candidate_list)\n",
    "df_blac = pd.DataFrame(blac_per, columns = candidate_list)\n",
    "df_hisp = pd.DataFrame(hisp_per, columns = candidate_list)\n",
    "\n",
    "df_whit_sum = df_whit.sum(axis=0)\n",
    "df_blac_sum = df_blac.sum(axis=0)\n",
    "df_hisp_sum = df_hisp.sum(axis=0)\n",
    "\n",
    "print('the candidate obtainged the largest number of votes for white people : %s' %(df_whit_sum.idxmax()))\n",
    "print('the candidate obtainged the largest number of votes for black people : %s' %(df_blac_sum.idxmax()))\n",
    "print('the candidate obtainged the largest number of votes for hispanic people : %s' %(df_hisp_sum.idxmax()))\n",
    "\n",
    "#print(df_whit[==df_whit.sum(axis=0).max())"
   ]
  },
  {
   "cell_type": "markdown",
   "metadata": {
    "nbgrader": {
     "grade": false,
     "locked": true,
     "solution": false
    }
   },
   "source": [
    "(g) Calculate the correlation between the difference in votes between Bush and Gore, and the votes obtained by Nader.\n",
    "(FYI: Pearson's correlation coefficient) https://en.wikipedia.org/wiki/Pearson_correlation_coefficient\n",
    "    Demo file: 'bush-gore-results-fl_demo.csv' "
   ]
  },
  {
   "cell_type": "code",
   "execution_count": 9,
   "metadata": {},
   "outputs": [
    {
     "name": "stdout",
     "output_type": "stream",
     "text": [
      "correlation between the difference in votes between Gore and Nader: 0.544306\n",
      "\n"
     ]
    },
    {
     "data": {
      "text/html": [
       "<div>\n",
       "<style scoped>\n",
       "    .dataframe tbody tr th:only-of-type {\n",
       "        vertical-align: middle;\n",
       "    }\n",
       "\n",
       "    .dataframe tbody tr th {\n",
       "        vertical-align: top;\n",
       "    }\n",
       "\n",
       "    .dataframe thead th {\n",
       "        text-align: right;\n",
       "    }\n",
       "</style>\n",
       "<table border=\"1\" class=\"dataframe\">\n",
       "  <thead>\n",
       "    <tr style=\"text-align: right;\">\n",
       "      <th></th>\n",
       "      <th>diff</th>\n",
       "      <th>nade</th>\n",
       "    </tr>\n",
       "  </thead>\n",
       "  <tbody>\n",
       "    <tr>\n",
       "      <th>diff</th>\n",
       "      <td>1.000000</td>\n",
       "      <td>0.544306</td>\n",
       "    </tr>\n",
       "    <tr>\n",
       "      <th>nade</th>\n",
       "      <td>0.544306</td>\n",
       "      <td>1.000000</td>\n",
       "    </tr>\n",
       "  </tbody>\n",
       "</table>\n",
       "</div>"
      ],
      "text/plain": [
       "          diff      nade\n",
       "diff  1.000000  0.544306\n",
       "nade  0.544306  1.000000"
      ]
     },
     "execution_count": 9,
     "metadata": {},
     "output_type": "execute_result"
    }
   ],
   "source": [
    "#\n",
    "# YOUR CODE HERE\n",
    "#\n",
    "import math\n",
    "df_corr = df.loc[:,['bush','gore', 'nade']]\n",
    "#\n",
    "df_bush = df.loc[:, 'bush']\n",
    "df_gore = df.loc[:, 'gore']\n",
    "df_nade = df.loc[:, 'nade']\n",
    "#diff bush and gore\n",
    "df_bg = abs(df_bush-df_gore)\n",
    "\n",
    "#power2 \n",
    "pow_nade = df_nade*df_nade\n",
    "pow_bg = df_bg*df_bg\n",
    "\n",
    "corr_bgn = ((df_bg*df_nade).mean() - df_bg.mean()*df_nade.mean()) / (math.sqrt( pow_bg.mean() - math.pow(df_bg.mean(), 2))*math.sqrt( pow_nade.mean() - math.pow(df_nade.mean(), 2)))\n",
    "print('correlation between the difference in votes between Gore and Nader: %.6f\\n' %corr_bgn)\n",
    "\n",
    "\n",
    "df_bg = pd.DataFrame(abs(df_bush-df_gore), columns=['diff'])\n",
    "df_bgn = pd.concat([df_bg, df_nade], axis=1)\n",
    "df_bgn.corr(method='pearson')\n",
    "\n",
    "\n"
   ]
  },
  {
   "cell_type": "markdown",
   "metadata": {
    "nbgrader": {
     "grade": false,
     "locked": true,
     "solution": false
    }
   },
   "source": [
    "(h) Find the distance between the county that Bush won by the largest margin and the county that Gore won by the largest margin. (Just use basic Euclidean distance between the latitude (lat) and longitude (lon) values for the counties, no need to compute spherical distance.) (FYI: Eucliden distane is decribed in https://en.wikipedia.org/wiki/Euclidean_distance#:~:text=In%20mathematics%2C%20the%20Euclidean%20distance,metric%20as%20the%20Pythagorean%20metric.)\n",
    "    Demo file: 'bush-gore-results-fl_demo.csv' \n",
    "   "
   ]
  },
  {
   "cell_type": "code",
   "execution_count": 10,
   "metadata": {},
   "outputs": [
    {
     "name": "stdout",
     "output_type": "stream",
     "text": [
      "32.3 83.6\n",
      "28.1 82.5\n",
      "Euclidean Distance : 4.341659\n",
      "\n"
     ]
    }
   ],
   "source": [
    "#\n",
    "# YOUR CODE HERE\n",
    "#\n",
    "import math\n",
    "df_h = df.loc[:, ['bush', 'gore']]\n",
    "\n",
    "df_margin = df_f.loc[:, 'bush'] - df_f.loc[:, 'gore']\n",
    "bw = df_margin.idxmax()\n",
    "gw = df_margin.idxmin()\n",
    "x1, y1 = df.loc[bw, 'lat':'lon']\n",
    "x2, y2 = df.loc[gw, 'lat':'lon']\n",
    "print(x1, y1)\n",
    "print(x2, y2)\n",
    "euc_dist = math.sqrt(math.pow(x1-x2, 2) + math.pow(y1-y2, 2))\n",
    "print('Euclidean Distance : %.6f\\n' % euc_dist)\n"
   ]
  }
 ],
 "metadata": {
  "kernelspec": {
   "display_name": "Python 3",
   "language": "python",
   "name": "python3"
  },
  "language_info": {
   "codemirror_mode": {
    "name": "ipython",
    "version": 3
   },
   "file_extension": ".py",
   "mimetype": "text/x-python",
   "name": "python",
   "nbconvert_exporter": "python",
   "pygments_lexer": "ipython3",
   "version": "3.8.5"
  }
 },
 "nbformat": 4,
 "nbformat_minor": 2
}
